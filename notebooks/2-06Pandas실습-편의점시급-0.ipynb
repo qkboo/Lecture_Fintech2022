{
 "cells": [
  {
   "cell_type": "code",
   "execution_count": null,
   "metadata": {},
   "outputs": [],
   "source": []
  },
  {
   "cell_type": "markdown",
   "metadata": {},
   "source": [
    "# Pandas 외부 파일 다루기\n",
    "\n",
    "1. 텍스트 파일\n",
    "1. 엑셀파일\n"
   ]
  },
  {
   "cell_type": "code",
   "execution_count": null,
   "metadata": {},
   "outputs": [],
   "source": [
    "#-*- coding: utf-8 -*-\n",
    "import pandas as pd\n",
    "import matplotlib as mpl\n",
    "import matplotlib.pyplot as plt\n",
    "%matplotlib inline"
   ]
  },
  {
   "cell_type": "markdown",
   "metadata": {},
   "source": [
    "## 1. 텍스트 파일\n",
    "    - comma, tap, space 구분된 데이터"
   ]
  },
  {
   "cell_type": "markdown",
   "metadata": {},
   "source": [
    "data/sample_address.txt 읽어 보자"
   ]
  },
  {
   "cell_type": "markdown",
   "metadata": {},
   "source": [
    "## 2. Excel 파일\n",
    "\n",
    "외부 데이터 파일 xls, xlsx 사용\n",
    "\n",
    " - pandas 사용\n",
    " - openpyxl 설치\n",
    " - xlrd 설치"
   ]
  },
  {
   "cell_type": "markdown",
   "metadata": {},
   "source": [
    "####  openpyxl 과 xlrd\n",
    "\n",
    "openpyxl 은 Excel 2010 xlsx/xlsm/xltx/xltm 파일을 읽고/쓰기가 가능하다.\n",
    "\n",
    " - https://pypi.org/project/openpyxl/ \n",
    " \n",
    "```Shell\n",
    "pip install -U openpyxl xlrd\n",
    "\n",
    "conda install -c anaconda openpyxl  xlrd\n",
    "```"
   ]
  },
  {
   "cell_type": "code",
   "execution_count": null,
   "metadata": {},
   "outputs": [],
   "source": [
    "! pip install openpyxl xlrd"
   ]
  },
  {
   "cell_type": "markdown",
   "metadata": {},
   "source": [
    "### xls 파일"
   ]
  },
  {
   "cell_type": "code",
   "execution_count": null,
   "metadata": {},
   "outputs": [],
   "source": [
    "Seoul_dong = pd.read_excel('../data/seoul_pop_22Q4Report.xls')\n",
    "Seoul_dong.head(3)"
   ]
  },
  {
   "cell_type": "markdown",
   "metadata": {},
   "source": [
    "### xlsx 파일"
   ]
  },
  {
   "cell_type": "code",
   "execution_count": null,
   "metadata": {},
   "outputs": [],
   "source": [
    "foreign_201901 = pd.read_excel('../data/kto_201901.xlsx', \n",
    "                          header=1,\n",
    "                          usecols='A:G',\n",
    "                          skipfooter=4)\n",
    "\n",
    "foreign_201901.head()"
   ]
  },
  {
   "cell_type": "code",
   "execution_count": null,
   "metadata": {},
   "outputs": [],
   "source": []
  },
  {
   "cell_type": "markdown",
   "metadata": {},
   "source": [
    "# 서울지역 - 편의점 시급\n",
    "\n",
    "시급으로 본 서울지역 아르바이트 환경 분석에서 사용했던 자료 중 편의점에 해당하는 데이터입니다.\n",
    "\n",
    "핑크팬더 님 자료"
   ]
  },
  {
   "cell_type": "code",
   "execution_count": null,
   "metadata": {},
   "outputs": [],
   "source": [
    "#-*- coding: utf-8 -*-\n",
    "import pandas as pd\n",
    "import matplotlib as plt\n",
    "%matplotlib inline"
   ]
  },
  {
   "cell_type": "markdown",
   "metadata": {},
   "source": [
    "### 편의점 시급 데이터"
   ]
  },
  {
   "cell_type": "code",
   "execution_count": null,
   "metadata": {},
   "outputs": [],
   "source": [
    "Hourly_wages = pd.read_csv('./data/convenient_store.csv')\n",
    "Hourly_wages.head()"
   ]
  },
  {
   "cell_type": "code",
   "execution_count": null,
   "metadata": {},
   "outputs": [],
   "source": [
    "Hourly_wages.info()"
   ]
  },
  {
   "cell_type": "markdown",
   "metadata": {},
   "source": [
    "### 시급 데이터 파악하기\n",
    "\n",
    "\n",
    "시급 값이 있는 컬럼의 중간,표준편차,최소,25%,50%,75%, 최대값"
   ]
  },
  {
   "cell_type": "code",
   "execution_count": null,
   "metadata": {},
   "outputs": [],
   "source": [
    "Hourly_wages.describe()     #데이터 프레임에 숫자 컬럼에서 요약해 준다."
   ]
  },
  {
   "cell_type": "code",
   "execution_count": null,
   "metadata": {},
   "outputs": [],
   "source": [
    "Hourly_wages.hourly_wage.describe()  # 특정 컬럼의 중간,표준편차,최소 값을 요약한다."
   ]
  },
  {
   "cell_type": "markdown",
   "metadata": {},
   "source": [
    "시급이 6000원 이상인 데이터만 필터"
   ]
  },
  {
   "cell_type": "code",
   "execution_count": null,
   "metadata": {},
   "outputs": [],
   "source": [
    "#시급이 6000원 이상인 데이터\n",
    "Hourly_wages[Hourly_wages.hourly_wage > 6000].describe()"
   ]
  },
  {
   "cell_type": "code",
   "execution_count": null,
   "metadata": {},
   "outputs": [],
   "source": [
    "# 마포구에 시급이 6000원 이상인 편의점\n",
    "Hourly_wages[(Hourly_wages.area1 == '마포구') & (Hourly_wages.hourly_wage > 6000)]"
   ]
  },
  {
   "cell_type": "markdown",
   "metadata": {},
   "source": [
    "조건식을 괄호로 묶고 `&, |, !` 논리연산자 묶어야!"
   ]
  },
  {
   "cell_type": "code",
   "execution_count": null,
   "metadata": {},
   "outputs": [],
   "source": [
    "# 편의점명, 시급, 체인명\n",
    "tmp = Hourly_wages[Hourly_wages['area1'] == '마포구'][['company','hourly_wage','name']]\n",
    "tmp.describe()"
   ]
  },
  {
   "cell_type": "code",
   "execution_count": null,
   "metadata": {},
   "outputs": [],
   "source": [
    "# 편의점이 세븐일레븐인 경우\n",
    "tmp = Hourly_wages[Hourly_wages['company'].str.contains('세븐일레븐*')][['company','hourly_wage']]\n",
    "tmp.describe()"
   ]
  },
  {
   "cell_type": "code",
   "execution_count": null,
   "metadata": {},
   "outputs": [],
   "source": [
    "# 편이점 이름에 CU가 있고 시급이 6000원 이상인 경우\n",
    "tmp = Hourly_wages[ (Hourly_wages.company.str.contains('CU')) & ( Hourly_wages.hourly_wage > 6000)]\n",
    "tmp.head()"
   ]
  },
  {
   "cell_type": "markdown",
   "metadata": {},
   "source": [
    "### 데이터 정리하기"
   ]
  },
  {
   "cell_type": "code",
   "execution_count": null,
   "metadata": {},
   "outputs": [],
   "source": [
    "def more_than_6000(x):\n",
    "    \"\"\"6000 보단 크고 작은지 판단한다\"\"\"\n",
    "    if x > 6000:\n",
    "        return 1\n",
    "    else:\n",
    "        return 0\n",
    "\n",
    "# 새로운 컬럼 'Seoul' 추가 \n",
    "Hourly_wages['Seoul'] = 'in Seoul'\n",
    "Hourly_wages['more_than_6000'] = Hourly_wages.hourly_wage.map(lambda x:more_than_6000(x))\n",
    "Hourly_wages[Hourly_wages.more_than_6000 == 1].head()"
   ]
  },
  {
   "cell_type": "code",
   "execution_count": null,
   "metadata": {},
   "outputs": [],
   "source": [
    "# 컬럼 중 '구' 와 시급 6000원 이상인 데이터셋트\n",
    "tmp = Hourly_wages[Hourly_wages.more_than_6000 == 1][['area1','hourly_wage']]\n",
    "tmp.head()"
   ]
  },
  {
   "cell_type": "code",
   "execution_count": null,
   "metadata": {},
   "outputs": [],
   "source": [
    "# csv 출력\n",
    "# data2.to_csv('data2.csv', index=False) \n",
    "#    - index=False: 행번호 제외"
   ]
  },
  {
   "cell_type": "markdown",
   "metadata": {},
   "source": [
    "---"
   ]
  },
  {
   "cell_type": "markdown",
   "metadata": {},
   "source": [
    "## 시급현황 그래프로 분석하기"
   ]
  },
  {
   "cell_type": "code",
   "execution_count": null,
   "metadata": {},
   "outputs": [],
   "source": [
    "import platform\n",
    "import matplotlib.pyplot as plt\n",
    "from matplotlib import font_manager, rc\n",
    "%matplotlib inline\n",
    "\n",
    "plt.rcParams['axes.unicode_minus'] = False\n",
    "\n",
    "# 폰트를 적재한다.\n",
    "if platform.system() == 'Darwin':\n",
    "    rc('font', family='AppleGothic')\n",
    "elif platform.system() == 'Windows':\n",
    "    path = \"c:/Windows/Fonts/malgun.ttf\"\n",
    "    font_name = font_manager.FontProperties(fname=path).get_name()\n",
    "    rc('font', family=font_name)\n",
    "elif 'Ubuntu' in platform.platform() or 'Linux' in platform.platform():\n",
    "    path = \"/usr/share/fonts/truetype/nanum/NanumMyeongjo.ttf\"\n",
    "    font_name = font_manager.FontProperties(fname=path).get_name()\n",
    "    rc('font', family=font_name)\n",
    "elif 'SuSE' in platform.platform():\n",
    "    path = \"/usr/share/fonts/truetype/NanumMyeongjo.ttf\"\n",
    "    font_name = font_manager.FontProperties(fname=path).get_name()\n",
    "    rc('font', family=font_name)\n",
    "else:\n",
    "    print('Unknown system... sorry~~~~') "
   ]
  },
  {
   "cell_type": "code",
   "execution_count": null,
   "metadata": {},
   "outputs": [],
   "source": [
    "#\n",
    "#   Histogram\n",
    "# \n",
    "Hourly_wages.hourly_wage.hist(bins=10)\n",
    "plt.show()"
   ]
  },
  {
   "cell_type": "code",
   "execution_count": null,
   "metadata": {},
   "outputs": [],
   "source": [
    "\"\"\"\n",
    "    barh\n",
    "\"\"\"\n",
    "Hourly_wages[ Hourly_wages['area1'] == '영등포구' ].hourly_wage.plot( kind='barh', grid=True, figsize=(7,7))\n",
    "plt.show()"
   ]
  },
  {
   "cell_type": "code",
   "execution_count": null,
   "metadata": {},
   "outputs": [],
   "source": [
    "# Box plot\n",
    "Hourly_wages.boxplot(column='hourly_wage')\n",
    "plt.show()"
   ]
  },
  {
   "cell_type": "code",
   "execution_count": null,
   "metadata": {},
   "outputs": [],
   "source": [
    "Hourly_wages.boxplot(column=['hourly_wage'], by='name')"
   ]
  },
  {
   "cell_type": "code",
   "execution_count": null,
   "metadata": {},
   "outputs": [],
   "source": [
    "Hourly_wages.boxplot(column='hourly_wage', by='area1', figsize=(10,6))"
   ]
  },
  {
   "cell_type": "code",
   "execution_count": null,
   "metadata": {},
   "outputs": [],
   "source": [
    "# 가로 박스 플로팅\n",
    "plt.rc('font', family='NanumGothic') #폰트\n",
    "Hourly_wages.boxplot(column='hourly_wage', by=['area1', 'name'], vert=False,  figsize=(10,6))"
   ]
  }
 ],
 "metadata": {
  "kernelspec": {
   "display_name": "Python 3 (ipykernel)",
   "language": "python",
   "name": "python3"
  },
  "language_info": {
   "codemirror_mode": {
    "name": "ipython",
    "version": 3
   },
   "file_extension": ".py",
   "mimetype": "text/x-python",
   "name": "python",
   "nbconvert_exporter": "python",
   "pygments_lexer": "ipython3",
   "version": "3.9.9"
  }
 },
 "nbformat": 4,
 "nbformat_minor": 4
}
