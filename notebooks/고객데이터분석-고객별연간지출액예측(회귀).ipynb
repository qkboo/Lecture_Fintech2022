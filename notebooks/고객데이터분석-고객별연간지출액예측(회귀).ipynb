{
 "cells": [
  {
   "cell_type": "markdown",
   "metadata": {},
   "source": [
    "# Linear Regression을 사용한 E-commerce 고객별 연간 지출액 예측\n",
    "\n",
    " - https://www.kaggle.com/code/aryan348/ecommerce-customers-linear-regression/\n",
    " - github 자료 사용\n",
    "     - https://github.com/araj2/customer-database/blob/master/Ecommerce%20Customers.csv\n",
    " "
   ]
  },
  {
   "cell_type": "markdown",
   "metadata": {},
   "source": [
    "# 1. 모듈 및 데이터 로딩"
   ]
  },
  {
   "cell_type": "code",
   "execution_count": null,
   "metadata": {},
   "outputs": [],
   "source": [
    "import pandas as pd\n",
    "import numpy as np\n",
    "import matplotlib.pyplot as plt\n",
    "import seaborn as sns"
   ]
  },
  {
   "cell_type": "code",
   "execution_count": null,
   "metadata": {},
   "outputs": [],
   "source": [
    "ecom_df = pd.read_csv('https://raw.githubusercontent.com/araj2/customer-database/master/Ecommerce%20Customers.csv')\n",
    "ecom_df.head()"
   ]
  },
  {
   "cell_type": "markdown",
   "metadata": {},
   "source": [
    "## 데이터 칼럼 설명\n",
    "- Email: 고객 이메일\n",
    "- Address: 고객 주소\n",
    "- Avatar: 아바타\n",
    "- Avg. Session Length: 한 번 접속 시 머문 평균 시간\n",
    "- Time on App: 앱에서 쓴 시간\n",
    "- Time on Website: 웹사이트에서 쓴 시간\n",
    "- Length of Membership: 고객의 멤버십 가입 기간\n",
    "- Yearly Amount Spent: 고객의 연간 지출액(종속변수)"
   ]
  },
  {
   "cell_type": "code",
   "execution_count": null,
   "metadata": {},
   "outputs": [],
   "source": [
    "ecom_df.tail()"
   ]
  },
  {
   "cell_type": "markdown",
   "metadata": {},
   "source": [
    "# 2. 데이터 특성 확인"
   ]
  },
  {
   "cell_type": "code",
   "execution_count": null,
   "metadata": {
    "scrolled": true
   },
   "outputs": [],
   "source": [
    "ecom_df.info()     # 데이터 정보. 인덱스와 칼럼의 데이터 개수/ 종류 확인"
   ]
  },
  {
   "cell_type": "markdown",
   "metadata": {},
   "source": [
    "- 데이터 결측치 없음"
   ]
  },
  {
   "cell_type": "code",
   "execution_count": null,
   "metadata": {},
   "outputs": [],
   "source": [
    "ecom_df.describe()     # 데이터 통계 정보. 수치형 데이터(int, float)가 들어있는 칼럼의 기초통계량 확인"
   ]
  },
  {
   "cell_type": "markdown",
   "metadata": {},
   "source": [
    "- 75%, max를 비교하면 아웃라이어 존재 확인 가능"
   ]
  },
  {
   "cell_type": "code",
   "execution_count": null,
   "metadata": {},
   "outputs": [],
   "source": [
    "sns.pairplot(ecom_df)     # 변수간 관계 확인"
   ]
  },
  {
   "cell_type": "markdown",
   "metadata": {},
   "source": [
    "# 3. 불필요한 칼럼 제거\n",
    "\n",
    "'Email', 'Address', 'Avatar' 컬럼 제외"
   ]
  },
  {
   "cell_type": "code",
   "execution_count": null,
   "metadata": {},
   "outputs": [],
   "source": [
    "# ecom_df = ecom_df[['Avg. Session Length', 'Time on App', 'Time on Website', 'Length of Membership', 'Yearly Amount Spent']]\n",
    "ecom_df = ecom_df.drop(['Email', 'Address', 'Avatar'], axis = 1)\n",
    "ecom_df.head()     # 필요한 칼럼만 가져와서 data에 저장\n"
   ]
  },
  {
   "cell_type": "code",
   "execution_count": null,
   "metadata": {},
   "outputs": [],
   "source": [
    "ecom_df.loc[:, ['Time on App']]"
   ]
  },
  {
   "cell_type": "code",
   "execution_count": null,
   "metadata": {},
   "outputs": [],
   "source": [
    "# RM 변수와 target과의 관계를 시각화\n",
    "import matplotlib.pyplot as plt\n",
    "X_time = ecom_df.loc[:, ['Time on App']] # Time on App\n",
    "y = ecom_df['Yearly Amount Spent']\n",
    "# 산점도 그리기\n",
    "plt.scatter(X_time, y)\n",
    "plt.xlabel(\"times\")\n",
    "plt.ylabel(\"spent ($)\")\n",
    "plt.show()"
   ]
  },
  {
   "cell_type": "code",
   "execution_count": null,
   "metadata": {},
   "outputs": [],
   "source": [
    "X_time.shape, y.shape"
   ]
  },
  {
   "cell_type": "code",
   "execution_count": null,
   "metadata": {},
   "outputs": [],
   "source": [
    "from sklearn.linear_model import LinearRegression\n",
    "\n",
    "lg_clf = LinearRegression()\n",
    "lg_clf.fit(X_time, y)"
   ]
  },
  {
   "cell_type": "code",
   "execution_count": null,
   "metadata": {},
   "outputs": [],
   "source": [
    "print(\"모델의 가중치:\", lg_clf.coef_)\n",
    "print(\"모델의 절편:\", lg_clf.intercept_)"
   ]
  },
  {
   "cell_type": "code",
   "execution_count": null,
   "metadata": {},
   "outputs": [],
   "source": [
    "# 실제 학습 데이터와 회귀선\n",
    "import numpy as np\n",
    "\n",
    "pred_space = np.linspace(\n",
    "    min(X_time.values), max(X_time.values)\n",
    ").reshape(-1, 1)\n",
    "\n",
    "# 산점도를 그려 봅니다.\n",
    "plt.scatter(X_time, y)\n",
    "# 회귀선 \n",
    "plt.plot(pred_space, # X축\n",
    "         lg_clf.predict(pred_space),\n",
    "         color=\"red\"\n",
    "        ) # 우리 모델의 예측값\n",
    "plt.show()"
   ]
  },
  {
   "cell_type": "markdown",
   "metadata": {},
   "source": [
    "# 4. train / test 나누기"
   ]
  },
  {
   "cell_type": "code",
   "execution_count": null,
   "metadata": {},
   "outputs": [],
   "source": [
    "from sklearn.model_selection import train_test_split     # train set/ test set 나누기\n",
    "\n",
    "X = ecom_df.drop('Yearly Amount Spent', axis = 1)     # 독립변수\n",
    "# X = data[['Avg.Session Length', 'Time on App', 'Time on Website', 'Length of Membership']]\n",
    "X"
   ]
  },
  {
   "cell_type": "code",
   "execution_count": null,
   "metadata": {},
   "outputs": [],
   "source": [
    "y = ecom_df['Yearly Amount Spent']     # 종속변수\n",
    "y"
   ]
  },
  {
   "cell_type": "code",
   "execution_count": null,
   "metadata": {},
   "outputs": [],
   "source": [
    "X_train, X_test, y_train, y_test = train_test_split(X, y, \n",
    "                                                    test_size = 0.2, \n",
    "                                                    random_state = 100)     # train set을 80%, test set을 20%로"
   ]
  },
  {
   "cell_type": "markdown",
   "metadata": {},
   "source": [
    "- 보통 train:test 비율을 7:3으로 함(데이터가 10000이상으로 충분히 클 때)\n",
    "- 데이터 크기가 작으면 8:2\n",
    "- random_state는 분석의 편의를 위해 매번 똑같은 결과를 얻기 위해 작성."
   ]
  },
  {
   "cell_type": "code",
   "execution_count": null,
   "metadata": {},
   "outputs": [],
   "source": [
    "X_train"
   ]
  },
  {
   "cell_type": "markdown",
   "metadata": {},
   "source": [
    "# 5. Linear Regression 모델"
   ]
  },
  {
   "cell_type": "code",
   "execution_count": null,
   "metadata": {},
   "outputs": [],
   "source": [
    "from sklearn.linear_model import LinearRegression\n",
    "\n",
    "reg_all = LinearRegression()\n",
    "model = reg_all.fit(X_train, y_train)"
   ]
  },
  {
   "cell_type": "code",
   "execution_count": null,
   "metadata": {},
   "outputs": [],
   "source": [
    "# 가중치와 절편\n",
    "print(\"가중치:\", model.coef_)\n",
    "print(\"절편:\", model.intercept_)"
   ]
  },
  {
   "cell_type": "code",
   "execution_count": null,
   "metadata": {},
   "outputs": [],
   "source": [
    "# 모델 검증\n",
    "print(\"훈련 세트 점수: {:.2f}\".format(reg_all.score(X_train, y_train))) # 학습 데이터 \n",
    "print(\"테스트 세트 점수: {:.2f}\".format(reg_all.score(X_test, y_test))) # 테스트 데이터"
   ]
  },
  {
   "cell_type": "markdown",
   "metadata": {},
   "source": [
    "# 6. 예측 및 평가"
   ]
  },
  {
   "cell_type": "code",
   "execution_count": null,
   "metadata": {},
   "outputs": [],
   "source": [
    "# 보스턴 데이터 셋의 첫번째 데이터와 타겟\n",
    "print(\"데이터 셋 관측치:\", X_test.iloc[1])\n",
    "print(\"데이터 셋 label:\", y_test.iloc[1])"
   ]
  },
  {
   "cell_type": "code",
   "execution_count": null,
   "metadata": {},
   "outputs": [],
   "source": [
    "X_test.iloc[1].shape"
   ]
  },
  {
   "cell_type": "code",
   "execution_count": null,
   "metadata": {},
   "outputs": [],
   "source": [
    "test = X_test.iloc[1]\n",
    "test"
   ]
  },
  {
   "cell_type": "code",
   "execution_count": null,
   "metadata": {},
   "outputs": [],
   "source": [
    "X_train.shape"
   ]
  },
  {
   "cell_type": "code",
   "execution_count": null,
   "metadata": {},
   "outputs": [],
   "source": [
    "# 모델이 예측한 예측치\n",
    "reg_all.predict(test.values.reshape(1, -1))"
   ]
  },
  {
   "cell_type": "code",
   "execution_count": null,
   "metadata": {},
   "outputs": [],
   "source": [
    "# 모델의 실제 값.\n",
    "y_test.iloc[1]"
   ]
  },
  {
   "cell_type": "markdown",
   "metadata": {},
   "source": [
    "### 모든 테스트 세트 예측"
   ]
  },
  {
   "cell_type": "code",
   "execution_count": null,
   "metadata": {},
   "outputs": [],
   "source": [
    "predictions = model.predict(X_test)     # 예측 데이터\n",
    "predictions"
   ]
  },
  {
   "cell_type": "code",
   "execution_count": null,
   "metadata": {},
   "outputs": [],
   "source": [
    "y_test.values     # 실제 데이터"
   ]
  }
 ],
 "metadata": {
  "kernelspec": {
   "display_name": "Python 3 (ipykernel)",
   "language": "python",
   "name": "python3"
  },
  "language_info": {
   "codemirror_mode": {
    "name": "ipython",
    "version": 3
   },
   "file_extension": ".py",
   "mimetype": "text/x-python",
   "name": "python",
   "nbconvert_exporter": "python",
   "pygments_lexer": "ipython3",
   "version": "3.10.4"
  }
 },
 "nbformat": 4,
 "nbformat_minor": 4
}
