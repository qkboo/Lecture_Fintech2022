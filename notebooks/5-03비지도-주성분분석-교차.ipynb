{
 "cells": [
  {
   "cell_type": "markdown",
   "metadata": {
    "id": "mmf7WR-VoGi5"
   },
   "source": [
    "# 6-3 주성분 분석"
   ]
  },
  {
   "cell_type": "markdown",
   "metadata": {},
   "source": [
    "## - 주성분 분석 소개 (PCA)\n",
    "\n",
    "> 참고: https://kolikim.tistory.com/27"
   ]
  },
  {
   "cell_type": "markdown",
   "metadata": {
    "id": "gPJ0mIpixFyO"
   },
   "source": [
    "#### 과일 사진 데이터 준비하기\n",
    "\n",
    "준비된 과일 데이터는 사과, 바나나, 파인애플을 담고 있는 흑백사진이다. \n",
    " - 데이터 출처 : https://github.com/rickiepark/hg-mldl/blob/master/fruits_300.npy\n",
    "\n",
    "이 데이터는 넘파이 배열의 기본 저장 포맷인 npy 파일로 저장되어 있다."
   ]
  },
  {
   "cell_type": "code",
   "execution_count": null,
   "metadata": {},
   "outputs": [],
   "source": [
    "from sklearn.neighbors import KNeighborsClassifier\n",
    "import numpy as np\n",
    "import pandas as pd\n",
    "import matplotlib.pyplot as plt"
   ]
  },
  {
   "cell_type": "code",
   "execution_count": null,
   "metadata": {
    "colab": {
     "base_uri": "https://localhost:8080/"
    },
    "id": "t_2KB59g2uVW",
    "outputId": "03686a6e-7e61-4757-9775-62b5d7ded2d9"
   },
   "outputs": [],
   "source": [
    "fruits = np.load('data/fruits_300.npy')\n",
    "\n",
    "print(fruits.shape)"
   ]
  },
  {
   "cell_type": "code",
   "execution_count": null,
   "metadata": {},
   "outputs": [],
   "source": [
    "fruits_2d = fruits.reshape(-1, 100*100)"
   ]
  },
  {
   "cell_type": "markdown",
   "metadata": {
    "id": "OYTpQQ5-1I0O"
   },
   "source": [
    "### - PCA 클래스\n",
    "\n",
    " - n_components 매개변수에 주성분의 개수를 지정해야 한다. \n",
    " - 비지도 학습이기 때문에 fit() 메서드에 타깃값을 제공하지 않는다."
   ]
  },
  {
   "cell_type": "code",
   "execution_count": null,
   "metadata": {
    "colab": {
     "base_uri": "https://localhost:8080/"
    },
    "id": "B1tKMFtC4CqL",
    "outputId": "47354378-d9a2-4425-98a5-3307bff0e11f"
   },
   "outputs": [],
   "source": [
    "from sklearn.decomposition import PCA\n",
    "\n",
    "pca = PCA(n_components=50)\n",
    "pca.fit(fruits_2d)"
   ]
  },
  {
   "cell_type": "markdown",
   "metadata": {},
   "source": [
    "PCA 클래스가 찾은 주성분은 components_ 속성"
   ]
  },
  {
   "cell_type": "code",
   "execution_count": null,
   "metadata": {
    "colab": {
     "base_uri": "https://localhost:8080/"
    },
    "id": "jbZoUZmU8GC2",
    "outputId": "10e3ff94-2f03-4a01-f3c3-e40b00ab5ef9"
   },
   "outputs": [],
   "source": [
    "print(pca.components_.shape)"
   ]
  },
  {
   "cell_type": "markdown",
   "metadata": {},
   "source": [
    "\n",
    "원본 데이터와 차원이 같으므로 주성분을 100x100 크기의 이미지처럼 출력해 볼 수 있다.\n"
   ]
  },
  {
   "cell_type": "code",
   "execution_count": null,
   "metadata": {
    "id": "6khgHQ_q8ag8"
   },
   "outputs": [],
   "source": [
    "def draw_fruits(arr, ratio=1):\n",
    "    n = len(arr)    # n은 샘플 개수입니다\n",
    "    # 한 줄에 10개씩 이미지를 그립니다. 샘플 개수를 10으로 나누어 전체 행 개수를 계산합니다. \n",
    "    rows = int(np.ceil(n/10))\n",
    "    # 행이 1개 이면 열 개수는 샘플 개수입니다. 그렇지 않으면 10개입니다.\n",
    "    cols = n if rows < 2 else 10\n",
    "    fig, axs = plt.subplots(rows, cols, \n",
    "                            figsize=(cols*ratio, rows*ratio), squeeze=False)\n",
    "    for i in range(rows):\n",
    "        for j in range(cols):\n",
    "            if i*10 + j < n:    # n 개까지만 그립니다.\n",
    "                axs[i, j].imshow(arr[i*10 + j], cmap='gray_r')\n",
    "            axs[i, j].axis('off')\n",
    "    plt.show()"
   ]
  },
  {
   "cell_type": "code",
   "execution_count": null,
   "metadata": {
    "colab": {
     "base_uri": "https://localhost:8080/",
     "height": 303
    },
    "id": "Ju7xKMHk8jlN",
    "outputId": "b1c4396b-e447-487b-9131-02f24c9516bf"
   },
   "outputs": [],
   "source": [
    "draw_fruits(pca.components_.reshape(-1, 100, 100))"
   ]
  },
  {
   "cell_type": "markdown",
   "metadata": {},
   "source": [
    "### 차원축소\n",
    "\n",
    "주성분을 찾았으므로 원본 데이터를 주성분에 투영하여 특성의 개수를 10000개에서 50개로 줄일 수 있다. PCA의 trasnform() 메서드를 사용해 원본 데이터의 차원을 50으로 줄여보자."
   ]
  },
  {
   "cell_type": "code",
   "execution_count": null,
   "metadata": {
    "colab": {
     "base_uri": "https://localhost:8080/"
    },
    "id": "vZEw0JyNpa1X",
    "outputId": "0b281fc4-2526-4fa2-89a9-2bc72636a7d1"
   },
   "outputs": [],
   "source": [
    "print(fruits_2d.shape)"
   ]
  },
  {
   "cell_type": "code",
   "execution_count": null,
   "metadata": {
    "id": "CH_x8Qom4yKI"
   },
   "outputs": [],
   "source": [
    "fruits_pca = pca.transform(fruits_2d)"
   ]
  },
  {
   "cell_type": "code",
   "execution_count": null,
   "metadata": {
    "colab": {
     "base_uri": "https://localhost:8080/"
    },
    "id": "fCd2bl-T6FC5",
    "outputId": "2c688a24-0ba9-4b6d-b691-4cc91ebd67b1"
   },
   "outputs": [],
   "source": [
    "print(fruits_pca.shape)"
   ]
  },
  {
   "cell_type": "markdown",
   "metadata": {
    "id": "lwRn5UOEtiXE"
   },
   "source": [
    "## - 원본 데이터 재구성\n",
    "\n",
    "PCA 클래스는 이를 위해 inverse_transform() 메서드를 제공한다.  50개의 차원으로 축소한 fruits_pca 데이터를 전달해 10000개의 특성을 복원하자."
   ]
  },
  {
   "cell_type": "code",
   "execution_count": null,
   "metadata": {
    "colab": {
     "base_uri": "https://localhost:8080/"
    },
    "id": "MiegTreJ9AXw",
    "outputId": "1844c969-b3ea-4a2e-e5c1-9dc5b3110927"
   },
   "outputs": [],
   "source": [
    "fruits_inverse = pca.inverse_transform(fruits_pca)\n",
    "print(fruits_inverse.shape)"
   ]
  },
  {
   "cell_type": "code",
   "execution_count": null,
   "metadata": {
    "id": "LcKji-ituy3f"
   },
   "outputs": [],
   "source": [
    "fruits_reconstruct = fruits_inverse.reshape(-1, 100, 100)"
   ]
  },
  {
   "cell_type": "code",
   "execution_count": null,
   "metadata": {
    "colab": {
     "base_uri": "https://localhost:8080/",
     "height": 1000
    },
    "id": "jjzuc2az9C5e",
    "outputId": "c4bfc4ff-e0db-488b-bb29-465bf0f62e21"
   },
   "outputs": [],
   "source": [
    "for start in [0, 100, 200]:\n",
    "    draw_fruits(fruits_reconstruct[start:start+100])\n",
    "    print(\"\\n\")"
   ]
  },
  {
   "cell_type": "markdown",
   "metadata": {},
   "source": [
    "일부 흐리고 번진 부분이 있지만 모든 과일이 잘 복원 되었다. "
   ]
  },
  {
   "cell_type": "markdown",
   "metadata": {
    "id": "ARhiLn1m2Ra1"
   },
   "source": [
    "## - 설명된 분산\n",
    "\n",
    "주성분이 원본 데이터의 분산을 얼마나 잘 나타내는지 기록한 값을 **설명된 분산** 이라고 한다. PCA 클래스의 explained_variance_ratio_에 각 주성분의 설명된 분산 비율이 기록되어 있다."
   ]
  },
  {
   "cell_type": "code",
   "execution_count": null,
   "metadata": {
    "colab": {
     "base_uri": "https://localhost:8080/"
    },
    "id": "i0667z-Hwx9Y",
    "outputId": "18fb95f1-0558-4ffa-9b26-be8146dd452d"
   },
   "outputs": [],
   "source": [
    "print(np.sum(pca.explained_variance_ratio_))"
   ]
  },
  {
   "cell_type": "code",
   "execution_count": null,
   "metadata": {
    "colab": {
     "base_uri": "https://localhost:8080/",
     "height": 282
    },
    "id": "MxYkugL84tH8",
    "outputId": "45f3a77e-0f88-4962-d1ec-a79479231547"
   },
   "outputs": [],
   "source": [
    "plt.plot(pca.explained_variance_ratio_)"
   ]
  },
  {
   "cell_type": "markdown",
   "metadata": {
    "id": "7Ekr5U6R6UNO"
   },
   "source": [
    "## - 다른 알고리즘과 함께 사용하기\n",
    "\n",
    "앞서 과일 사진 원본 데이터와 PCA로 축소한 데이터를 지도 학습에 적용"
   ]
  },
  {
   "cell_type": "code",
   "execution_count": null,
   "metadata": {
    "id": "abEPOUXR6GaQ"
   },
   "outputs": [],
   "source": [
    "from sklearn.linear_model import LogisticRegression\n",
    "\n",
    "lr = LogisticRegression()"
   ]
  },
  {
   "cell_type": "markdown",
   "metadata": {},
   "source": [
    "지도 학습 모델을 사용하려면 타깃값이 있어야 한다. 여기에서는 사과를 0, 파인애플을 1, 바나나를 2로 지정하자."
   ]
  },
  {
   "cell_type": "code",
   "execution_count": null,
   "metadata": {
    "id": "g5AzDXd06PCO"
   },
   "outputs": [],
   "source": [
    "target = np.array([0] * 100 + [1] * 100 + [2] * 100)"
   ]
  },
  {
   "cell_type": "markdown",
   "metadata": {},
   "source": [
    "원본 데이터인 fruits_2d를 사용해 로지스틱 회귀 모델에서 성능을 가늠해 보기 위해 cross_validate()로 교차 검증을 수행하자."
   ]
  },
  {
   "cell_type": "code",
   "execution_count": null,
   "metadata": {
    "colab": {
     "base_uri": "https://localhost:8080/"
    },
    "id": "eksgBJHM6TnQ",
    "outputId": "59592a03-66cf-4f5b-adca-b3aa8fab3767"
   },
   "outputs": [],
   "source": [
    "from sklearn.model_selection import cross_validate\n",
    "\n",
    "scores = cross_validate(lr, fruits_2d, target)\n",
    "print(np.mean(scores['test_score']))\n",
    "print(np.mean(scores['fit_time']))"
   ]
  },
  {
   "cell_type": "markdown",
   "metadata": {},
   "source": [
    "교차 검증의 점수는 0.977 로 매우 높다. 특성이 10000개나 되기 때문에 300개의 샘플에서는 금방 과대적합된 모델을 만들기 쉽다. \n",
    "\n",
    "이 값을 PCA로 축소한 fruits_pca를 사용했을 때와 비교하자."
   ]
  },
  {
   "cell_type": "code",
   "execution_count": null,
   "metadata": {
    "colab": {
     "base_uri": "https://localhost:8080/"
    },
    "id": "v4LViFYT0s-F",
    "outputId": "868267bb-96ac-48d1-a207-ff7fa6629c4e"
   },
   "outputs": [],
   "source": [
    "scores = cross_validate(lr, fruits_pca, target)\n",
    "print(np.mean(scores['test_score']))\n",
    "print(np.mean(scores['fit_time']))"
   ]
  },
  {
   "cell_type": "markdown",
   "metadata": {},
   "source": [
    "50개의 특성만 사용했는데 정확도가 100%이고 훈련 시간은 0.01초로 거의 98% 이상 감소했다. "
   ]
  },
  {
   "cell_type": "code",
   "execution_count": null,
   "metadata": {},
   "outputs": [],
   "source": [
    "(0.01 - 0.54)/0.54*100 - 100"
   ]
  },
  {
   "cell_type": "markdown",
   "metadata": {},
   "source": [
    "설명된 분산의 50%에 달하는 주성분을 찾도록 PCA 모델을 만들어 보자."
   ]
  },
  {
   "cell_type": "code",
   "execution_count": null,
   "metadata": {
    "colab": {
     "base_uri": "https://localhost:8080/"
    },
    "id": "7pYqYMqT7dko",
    "outputId": "26d1efc4-09c0-4b29-d8d1-a6addd99092c"
   },
   "outputs": [],
   "source": [
    "pca = PCA(n_components=0.5)\n",
    "pca.fit(fruits_2d)"
   ]
  },
  {
   "cell_type": "code",
   "execution_count": null,
   "metadata": {
    "colab": {
     "base_uri": "https://localhost:8080/"
    },
    "id": "lBNLzuvn77aU",
    "outputId": "2f3f9aeb-5ec5-467d-c816-f4177c2839cf"
   },
   "outputs": [],
   "source": [
    "print(pca.n_components_)"
   ]
  },
  {
   "cell_type": "markdown",
   "metadata": {},
   "source": [
    "단 2개의 특성 만으로 분산의 50% 를 표현할 수 있다. 이 모델로 원본 데이터를 변환해보자. 주성분이 2개이므로 변환된 데이터의 크기는 (300,2)가 될 것이다."
   ]
  },
  {
   "cell_type": "code",
   "execution_count": null,
   "metadata": {
    "colab": {
     "base_uri": "https://localhost:8080/"
    },
    "id": "fOsFDbdMDYbZ",
    "outputId": "666bc967-26b9-4bd3-ae02-639c9bcfef2a"
   },
   "outputs": [],
   "source": [
    "fruits_pca = pca.transform(fruits_2d)\n",
    "print(fruits_pca.shape)"
   ]
  },
  {
   "cell_type": "markdown",
   "metadata": {},
   "source": [
    "2개의 특성으로 교차 검증도 해보자."
   ]
  },
  {
   "cell_type": "code",
   "execution_count": null,
   "metadata": {
    "colab": {
     "base_uri": "https://localhost:8080/"
    },
    "id": "0vkCS3_Q7-0M",
    "outputId": "4b0296a4-a885-47b9-93dc-50e34ee97f70"
   },
   "outputs": [],
   "source": [
    "scores = cross_validate(lr, fruits_pca, target)\n",
    "print(np.mean(scores['test_score']))\n",
    "print(np.mean(scores['fit_time']))"
   ]
  },
  {
   "cell_type": "markdown",
   "metadata": {},
   "source": [
    "### K-means\n",
    "\n",
    "차원 축소된 데이터를 사용해 k-평균 알고리즘으로 클러스터를 찾아보자."
   ]
  },
  {
   "cell_type": "code",
   "execution_count": null,
   "metadata": {
    "colab": {
     "base_uri": "https://localhost:8080/"
    },
    "id": "AbgpgCl0DC4E",
    "outputId": "7f32c1a6-6b23-4f50-91da-06d3f56119c8"
   },
   "outputs": [],
   "source": [
    "from sklearn.cluster import KMeans\n",
    "\n",
    "km = KMeans(n_clusters=3, random_state=42)\n",
    "km.fit(fruits_pca)"
   ]
  },
  {
   "cell_type": "code",
   "execution_count": null,
   "metadata": {
    "colab": {
     "base_uri": "https://localhost:8080/"
    },
    "id": "h3pYRKL5DOV2",
    "outputId": "fd6c0f4a-5beb-4545-a4fa-744cf4049b93"
   },
   "outputs": [],
   "source": [
    "print(np.unique(km.labels_, return_counts=True))"
   ]
  },
  {
   "cell_type": "markdown",
   "metadata": {},
   "source": [
    "fruits_pca로 찾은 클러스터는 각각 110개, 99개, 91개의 샘플을 포함하고 있다. 이는 앞에서 원본 데이터를 사용했을 때와 거의 비슷한 결과이다. 이미지로 출력해보자."
   ]
  },
  {
   "cell_type": "code",
   "execution_count": null,
   "metadata": {
    "colab": {
     "base_uri": "https://localhost:8080/",
     "height": 1000
    },
    "id": "wAtTYK9zDRF9",
    "outputId": "57351317-e7d0-4f04-a8a9-1a3a194ab34c"
   },
   "outputs": [],
   "source": [
    "for label in range(0, 3):\n",
    "    draw_fruits(fruits[km.labels_ == label])\n",
    "    print(\"\\n\")"
   ]
  },
  {
   "cell_type": "markdown",
   "metadata": {},
   "source": [
    " - 파인애플은 사과와 조금 혼돈되는 면이 있다."
   ]
  },
  {
   "cell_type": "markdown",
   "metadata": {},
   "source": [
    "훈련 데이터의 차원을 줄이면 또 하나 얻을 수 있는 장점은 시각화이다. 3개 이하로 차원을 줄이면 화면에 출력하기 비교적 쉽다."
   ]
  },
  {
   "cell_type": "code",
   "execution_count": null,
   "metadata": {
    "colab": {
     "base_uri": "https://localhost:8080/",
     "height": 265
    },
    "id": "alRxf4FNEKlC",
    "outputId": "b98ed72c-3f60-4211-bdd1-da07999d838f"
   },
   "outputs": [],
   "source": [
    "for label in range(0, 3):\n",
    "    data = fruits_pca[km.labels_ == label]\n",
    "    plt.scatter(data[:,0], data[:,1])\n",
    "plt.legend(['apple', 'banana', 'pineapple'])\n",
    "plt.show()"
   ]
  },
  {
   "cell_type": "markdown",
   "metadata": {},
   "source": [
    "각 클러스터의 산점도가 아주 잘 구분된다. 2개의 특성만을 사용했는데 교차 검증 점수가 99%가 나온 이유를 알 수 있다."
   ]
  },
  {
   "cell_type": "markdown",
   "metadata": {},
   "source": [
    "참고:\n",
    "\n",
    "혼자서하는 ML/ 비지도 학습\n"
   ]
  }
 ],
 "metadata": {
  "colab": {
   "collapsed_sections": [],
   "name": "6-3 PCA.ipynb",
   "provenance": []
  },
  "kernelspec": {
   "display_name": "Python 3 (ipykernel)",
   "language": "python",
   "name": "python3"
  },
  "language_info": {
   "codemirror_mode": {
    "name": "ipython",
    "version": 3
   },
   "file_extension": ".py",
   "mimetype": "text/x-python",
   "name": "python",
   "nbconvert_exporter": "python",
   "pygments_lexer": "ipython3",
   "version": "3.9.7"
  }
 },
 "nbformat": 4,
 "nbformat_minor": 4
}
